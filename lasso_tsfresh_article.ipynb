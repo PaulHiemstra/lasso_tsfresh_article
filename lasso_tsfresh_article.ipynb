{
 "cells": [
  {
   "cell_type": "code",
   "execution_count": 10,
   "metadata": {},
   "outputs": [],
   "source": [
    "import warnings; warnings.simplefilter('ignore')\n",
    "\n",
    "from scipy.io import wavfile\n",
    "import pandas as pd\n",
    "import numpy as np\n",
    "from plotnine import *"
   ]
  },
  {
   "cell_type": "markdown",
   "metadata": {},
   "source": [
    "# Expanding your regressions repetoire with regularisation\n",
    "*Classifying drum samples with logistic regression including feature selection*\n",
    "\n",
    "## Introduction \n",
    "For many data scientists, the basic workhorse model is multiple linear regression. It serves as the first port of call in many analyses, and serves as the benchmark that more complicated models need to overcome. One of its strenghts is the easy interpretability of the resulting coefficients, something that especially neural networks struggle with. However, linear regression is not without its challenges. In this article we focus on one particular challenge: feature selection. \n",
    "\n",
    "Although selecting the features for the model can be done via expert knowledge, us data inclined people often use some kind of automated feature selection method. One example of such a method is stepwise regression, which is [generally regarded as a poor choice](https://towardsdatascience.com/stopping-stepwise-why-stepwise-selection-is-bad-and-what-you-should-use-instead-90818b3f52df). An alternative means of integrating feature selection into a regression algorithm is to use [regularisation](https://en.wikipedia.org/wiki/Regularization_(mathematics)). Regularistaion does this by expanding the normal least squares goal or loss function used in regression with a term which limits the size of coefficients. Limiting a coefficient to zero eliminates the feature from the model, effectively performing feature selection.  \n",
    "\n",
    "In this article you will learn about the following topics:\n",
    "\n",
    "- What regularisation is in more detail and why it is interesting to use\n",
    "- What different types of regularisation there are\n",
    "- How to practically use regularisation via a use case\n",
    "\n",
    "## Why use regularisation?\n",
    "- Normal regression intro\n",
    "- loss function in regression\n",
    "- why use regularisation? \n",
    "\n",
    "## Implementation of regularisation\n",
    "- extend loss function using regularisation\n",
    "- types of regularisation\n",
    "- common methods that include regularisation (lasso, ridge, etc, etc)\n",
    "\n",
    "## Example use of regularisation\n",
    "### The Dataset"
   ]
  },
  {
   "cell_type": "code",
   "execution_count": 19,
   "metadata": {},
   "outputs": [
    {
     "data": {
      "text/html": [
       "<div>\n",
       "<style scoped>\n",
       "    .dataframe tbody tr th:only-of-type {\n",
       "        vertical-align: middle;\n",
       "    }\n",
       "\n",
       "    .dataframe tbody tr th {\n",
       "        vertical-align: top;\n",
       "    }\n",
       "\n",
       "    .dataframe thead th {\n",
       "        text-align: right;\n",
       "    }\n",
       "</style>\n",
       "<table border=\"1\" class=\"dataframe\">\n",
       "  <thead>\n",
       "    <tr style=\"text-align: right;\">\n",
       "      <th></th>\n",
       "      <th>left</th>\n",
       "      <th>right</th>\n",
       "      <th>time_id</th>\n",
       "    </tr>\n",
       "  </thead>\n",
       "  <tbody>\n",
       "    <tr>\n",
       "      <th>0</th>\n",
       "      <td>7</td>\n",
       "      <td>3</td>\n",
       "      <td>0</td>\n",
       "    </tr>\n",
       "    <tr>\n",
       "      <th>1</th>\n",
       "      <td>5</td>\n",
       "      <td>4</td>\n",
       "      <td>1</td>\n",
       "    </tr>\n",
       "    <tr>\n",
       "      <th>2</th>\n",
       "      <td>12</td>\n",
       "      <td>7</td>\n",
       "      <td>2</td>\n",
       "    </tr>\n",
       "    <tr>\n",
       "      <th>3</th>\n",
       "      <td>86</td>\n",
       "      <td>39</td>\n",
       "      <td>3</td>\n",
       "    </tr>\n",
       "    <tr>\n",
       "      <th>4</th>\n",
       "      <td>313</td>\n",
       "      <td>182</td>\n",
       "      <td>4</td>\n",
       "    </tr>\n",
       "  </tbody>\n",
       "</table>\n",
       "</div>"
      ],
      "text/plain": [
       "   left  right  time_id\n",
       "0     7      3        0\n",
       "1     5      4        1\n",
       "2    12      7        2\n",
       "3    86     39        3\n",
       "4   313    182        4"
      ]
     },
     "execution_count": 19,
     "metadata": {},
     "output_type": "execute_result"
    }
   ],
   "source": [
    "sample_rate, bass = wavfile.read('./sounds/bass1.wav')\n",
    "bass_pd = pd.DataFrame(bass, columns=['left', 'right']).assign(time_id = range(len(bass)))\n",
    "bass_pd.head()"
   ]
  },
  {
   "cell_type": "code",
   "execution_count": 17,
   "metadata": {},
   "outputs": [
    {
     "data": {
      "image/png": "[encoded data removed]",
      "text/plain": [
       "<Figure size 400x200 with 2 Axes>"
      ]
     },
     "metadata": {},
     "output_type": "display_data"
    },
    {
     "data": {
      "text/plain": [
       "<ggplot: (8762920589433)>"
      ]
     },
     "execution_count": 17,
     "metadata": {},
     "output_type": "execute_result"
    }
   ],
   "source": [
    "(\n",
    "    ggplot(bass_pd.melt(id_vars = ['time_id'], value_name='amplitude', var_name='stereo')) \n",
    "      + geom_line(aes(x = 'time_id', \n",
    "                      y = 'amplitude'))\n",
    "      + facet_wrap('stereo') \n",
    "      + theme(figure_size=(4,2))\n",
    ")"
   ]
  },
  {
   "cell_type": "code",
   "execution_count": 34,
   "metadata": {},
   "outputs": [
    {
     "data": {
      "text/html": [
       "<div>\n",
       "<style scoped>\n",
       "    .dataframe tbody tr th:only-of-type {\n",
       "        vertical-align: middle;\n",
       "    }\n",
       "\n",
       "    .dataframe tbody tr th {\n",
       "        vertical-align: top;\n",
       "    }\n",
       "\n",
       "    .dataframe thead th {\n",
       "        text-align: right;\n",
       "    }\n",
       "</style>\n",
       "<table border=\"1\" class=\"dataframe\">\n",
       "  <thead>\n",
       "    <tr style=\"text-align: right;\">\n",
       "      <th></th>\n",
       "      <th>left</th>\n",
       "      <th>right</th>\n",
       "      <th>time_id</th>\n",
       "      <th>file_id</th>\n",
       "    </tr>\n",
       "  </thead>\n",
       "  <tbody>\n",
       "    <tr>\n",
       "      <th>0</th>\n",
       "      <td>7</td>\n",
       "      <td>3</td>\n",
       "      <td>0</td>\n",
       "      <td>sounds/kick/Bass-Drum-1.wav</td>\n",
       "    </tr>\n",
       "    <tr>\n",
       "      <th>1</th>\n",
       "      <td>5</td>\n",
       "      <td>4</td>\n",
       "      <td>1</td>\n",
       "      <td>sounds/kick/Bass-Drum-1.wav</td>\n",
       "    </tr>\n",
       "    <tr>\n",
       "      <th>2</th>\n",
       "      <td>12</td>\n",
       "      <td>7</td>\n",
       "      <td>2</td>\n",
       "      <td>sounds/kick/Bass-Drum-1.wav</td>\n",
       "    </tr>\n",
       "    <tr>\n",
       "      <th>3</th>\n",
       "      <td>86</td>\n",
       "      <td>39</td>\n",
       "      <td>3</td>\n",
       "      <td>sounds/kick/Bass-Drum-1.wav</td>\n",
       "    </tr>\n",
       "    <tr>\n",
       "      <th>4</th>\n",
       "      <td>313</td>\n",
       "      <td>182</td>\n",
       "      <td>4</td>\n",
       "      <td>sounds/kick/Bass-Drum-1.wav</td>\n",
       "    </tr>\n",
       "  </tbody>\n",
       "</table>\n",
       "</div>"
      ],
      "text/plain": [
       "   left  right  time_id                      file_id\n",
       "0     7      3        0  sounds/kick/Bass-Drum-1.wav\n",
       "1     5      4        1  sounds/kick/Bass-Drum-1.wav\n",
       "2    12      7        2  sounds/kick/Bass-Drum-1.wav\n",
       "3    86     39        3  sounds/kick/Bass-Drum-1.wav\n",
       "4   313    182        4  sounds/kick/Bass-Drum-1.wav"
      ]
     },
     "execution_count": 34,
     "metadata": {},
     "output_type": "execute_result"
    }
   ],
   "source": [
    "def audio_to_dataframe(path):\n",
    "    from scipy.io import wavfile\n",
    "    \n",
    "    sample_rate, data = wavfile.read(path)\n",
    "    ret_obj = (\n",
    "        pd.DataFrame(data, columns=['left', 'right'])\n",
    "          .assign(time_id = range(len(data)),\n",
    "                  file_id = path)\n",
    "    )\n",
    "    return ret_obj\n",
    "\n",
    "import glob\n",
    "\n",
    "wav_files = glob.glob('sounds/kick/*.wav') + glob.glob('sounds/snare/*.wav') + glob.glob('sounds/tom/*.wav')\n",
    "all_audio = pd.concat([audio_to_dataframe(path) for path in wav_files])\n",
    "all_labels = pd.Series(np.repeat(['kick', 'snare', 'tom'], 25), \n",
    "                      index = wav_files)\n",
    "all_audio.head()"
   ]
  },
  {
   "cell_type": "markdown",
   "metadata": {},
   "source": [
    "## Generating features"
   ]
  },
  {
   "cell_type": "code",
   "execution_count": 35,
   "metadata": {},
   "outputs": [
    {
     "name": "stderr",
     "output_type": "stream",
     "text": [
      "Feature Extraction: 100%|██████████| 10/10 [00:01<00:00,  7.44it/s]\n"
     ]
    }
   ],
   "source": [
    "from tsfresh import extract_relevant_features\n",
    "from tsfresh.feature_extraction import MinimalFCParameters\n",
    "settings = MinimalFCParameters()\n",
    "\n",
    "audio_tsfresh = extract_relevant_features(all_audio, all_labels, \n",
    "                                          column_id='file_id', column_sort='time_id', \n",
    "                                          default_fc_parameters=settings)"
   ]
  },
  {
   "cell_type": "code",
   "execution_count": 37,
   "metadata": {},
   "outputs": [
    {
     "name": "stdout",
     "output_type": "stream",
     "text": [
      "<class 'pandas.core.frame.DataFrame'>\n",
      "Index: 75 entries, sounds/kick/Bass-Drum-1.wav to sounds/tom/Mid-Tom-2.wav\n",
      "Data columns (total 11 columns):\n",
      " #   Column                     Non-Null Count  Dtype  \n",
      "---  ------                     --------------  -----  \n",
      " 0   left__standard_deviation   75 non-null     float64\n",
      " 1   left__variance             75 non-null     float64\n",
      " 2   right__standard_deviation  75 non-null     float64\n",
      " 3   right__variance            75 non-null     float64\n",
      " 4   right__sum_values          75 non-null     float64\n",
      " 5   right__mean                75 non-null     float64\n",
      " 6   left__mean                 75 non-null     float64\n",
      " 7   left__sum_values           75 non-null     float64\n",
      " 8   left__length               75 non-null     float64\n",
      " 9   right__length              75 non-null     float64\n",
      " 10  right__maximum             75 non-null     float64\n",
      "dtypes: float64(11)\n",
      "memory usage: 7.0+ KB\n"
     ]
    }
   ],
   "source": [
    "audio_tsfresh.info()"
   ]
  },
  {
   "cell_type": "markdown",
   "metadata": {},
   "source": [
    "## Fitting Lasso\n",
    "\n",
    "## The case for Lasso as a baseline model\n",
    "\n",
    "Lasso goed:\n",
    "- Snel\n",
    "- Kan feature selectie doen iets meer fire and forget\n",
    "- Feature selectie kan via cross-validatie\n",
    "- Coef zijn nog interpreteerbaar, dit maakt het ook tot een goede data verkenningsmethode\n",
    "- Vormt een mooie benchmark voor meer complexe methodes zoals Gradient Boosting Machines. "
   ]
  }
 ],
 "metadata": {
  "kernelspec": {
   "display_name": "Python 3",
   "language": "python",
   "name": "python3"
  },
  "language_info": {
   "codemirror_mode": {
    "name": "ipython",
    "version": 3
   },
   "file_extension": ".py",
   "mimetype": "text/x-python",
   "name": "python",
   "nbconvert_exporter": "python",
   "pygments_lexer": "ipython3",
   "version": "3.7.7"
  }
 },
 "nbformat": 4,
 "nbformat_minor": 4
}
